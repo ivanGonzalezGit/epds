{
  "cells": [
    {
      "cell_type": "markdown",
      "metadata": {
        "id": "pR93WFeRk9Qq"
      },
      "source": [
        "# Cálculo y estimación de probabilidades\n",
        "\n",
        "En este *notebook* estudiaremos dos enfoques para el estudio de la probabilidad de eventos aleatorios:\n",
        "\n",
        "- Calcular las probabilidades a mano, de forma exacta, usando la teoría de probabilidades que estudiamos y utilizando Python como \"calculadora\".\n",
        "\n",
        "- Simular el experimento y estimar las probabilidades a partir de la frecuencia relativa. Esta estrategia es sumamente útil, especialmente cuándo no podemos calcular la probabilidad (¡hay muchos experimentos difíciles de modelar y en los que el cálculo de probabilidades no es fácil!). Estudiaremos el \"porqué\" de que esta estrategia funcione recién en la Posta 4, cuando estudiemos resultados de convergencia. Por ahora, con la intuición bastará.\n",
        "\n",
        "Al final del *notebook* encontrarás la consigna para el Trabajo de Simulación 1."
      ]
    },
    {
      "cell_type": "markdown",
      "source": [
        "## Cálculo de probabilidades\n",
        "\n",
        "Comenzaremos esta sección calculando \"a mano\" algunas probabilidades que surgen de ejercicios similares a los del Libro y la Práctica 1."
      ],
      "metadata": {
        "id": "yc6GiBkzyP2M"
      }
    },
    {
      "cell_type": "markdown",
      "source": [
        "### Ejemplo 1\n",
        "\n",
        "Escribir un código para determinar, por enumeración, un espacio muestral finito y equiprobable para el experimento aleatorio que consiste en lanzar una moneda dos veces."
      ],
      "metadata": {
        "id": "QHSVCcaiyku-"
      }
    },
    {
      "cell_type": "code",
      "source": [
        "posibles = {\"cara\",\"cruz\"}\n",
        "espacio_muestral = set()\n",
        "for tiro1 in posibles:\n",
        "  for tiro2 in posibles:\n",
        "    salida = (tiro1, tiro2)\n",
        "    espacio_muestral.add(salida)\n",
        "print(espacio_muestral)"
      ],
      "metadata": {
        "id": "g6smEVsZ0HsT",
        "colab": {
          "base_uri": "https://localhost:8080/"
        },
        "outputId": "0e01488a-4e73-4558-f854-93bfb0801541"
      },
      "execution_count": null,
      "outputs": [
        {
          "output_type": "stream",
          "name": "stdout",
          "text": [
            "{('cruz', 'cara'), ('cara', 'cruz'), ('cara', 'cara'), ('cruz', 'cruz')}\n"
          ]
        }
      ]
    },
    {
      "cell_type": "markdown",
      "source": [
        "¿Qué hicimos en el código anterior?\n",
        "\n",
        "* usamos la función ``set()`` para crear un conjunto vacío;\n",
        "* usamos el ciclo ``for`` para recorrer, itereativamente, los elementos del conjunto anterior. Notemos que debimos hacerlo dos veces ya que debíamos armar pares ordenados con el producto cartesiano del conjunto \"posibles\".\n",
        "* usamos la función ``.add`` para añadir cada elemento al conjunto.\n",
        "\n",
        "Lo anterior es útil, pero poco práctico si tuviéramos que obtener los elementos del espacio muestral de un experimento análogo, pero con 4 lanzamientos. ¿Por qué? Porque deberíamos recorrer un ciclo ``for`` cuatro veces... Hay formas más eficientes de hacer esto.\n",
        "\n",
        "Para hacerlo más eficiente, vamos a usar la función ``product`` de la librería ``itertools``, que nos permitirá armar el producto cartesiano del conjunto \"posibles\" para armar las 4-uplas del espacio muestral. Al final, usamos la función ``len`` para contar los elementos del espacio, es decir, para conocer su cardinal."
      ],
      "metadata": {
        "id": "TD5QPExW1D6J"
      }
    },
    {
      "cell_type": "code",
      "source": [
        "from itertools import product\n",
        "posibles = {\"cara\",\"cruz\"}\n",
        "espacio_muestral = set(product(posibles, repeat=4))\n",
        "print(espacio_muestral)\n",
        "len(espacio_muestral)"
      ],
      "metadata": {
        "id": "5j0jYow42Lfk",
        "colab": {
          "base_uri": "https://localhost:8080/"
        },
        "outputId": "2cc6b14e-f2e5-4660-a944-cee3df733703"
      },
      "execution_count": null,
      "outputs": [
        {
          "output_type": "stream",
          "name": "stdout",
          "text": [
            "{('cara', 'cara', 'cara', 'cara'), ('cara', 'cruz', 'cruz', 'cruz'), ('cruz', 'cara', 'cruz', 'cara'), ('cara', 'cara', 'cruz', 'cara'), ('cruz', 'cruz', 'cruz', 'cruz'), ('cruz', 'cara', 'cara', 'cruz'), ('cara', 'cruz', 'cruz', 'cara'), ('cruz', 'cara', 'cara', 'cara'), ('cara', 'cruz', 'cara', 'cruz'), ('cara', 'cruz', 'cara', 'cara'), ('cruz', 'cruz', 'cruz', 'cara'), ('cruz', 'cruz', 'cara', 'cruz'), ('cruz', 'cruz', 'cara', 'cara'), ('cara', 'cara', 'cara', 'cruz'), ('cruz', 'cara', 'cruz', 'cruz'), ('cara', 'cara', 'cruz', 'cruz')}\n"
          ]
        },
        {
          "output_type": "execute_result",
          "data": {
            "text/plain": [
              "16"
            ]
          },
          "metadata": {},
          "execution_count": 2
        }
      ]
    },
    {
      "cell_type": "markdown",
      "source": [
        "### Ejemplo 2\n",
        "\n",
        "1. Escribir un código para determinar por enumeración un espacio muestral finito y equiprobable para el experimento de lanzar 3 dados y registrar los resultados obtenidos.\n",
        "2. Escribir un código para determinar los elementos del evento \"la suma de los resultados en dos lanzamientos de un dado no sea mayor que 7\".\n",
        "3. Calcular la probabilidad del evento del ítem anterior."
      ],
      "metadata": {
        "id": "rZtmGez73hVY"
      }
    },
    {
      "cell_type": "code",
      "source": [
        "# 2.1)\n",
        "posibles = range(1,7)\n",
        "espacio_muestral = set(product(posibles, repeat=2))\n",
        "print(espacio_muestral)\n",
        "len(espacio_muestral)"
      ],
      "metadata": {
        "id": "smdZ6U4H2chb",
        "colab": {
          "base_uri": "https://localhost:8080/"
        },
        "outputId": "7654a288-9f27-45f1-d08c-0adb9959f507"
      },
      "execution_count": null,
      "outputs": [
        {
          "output_type": "stream",
          "name": "stdout",
          "text": [
            "{(3, 4), (4, 3), (3, 1), (5, 4), (4, 6), (5, 1), (2, 2), (1, 6), (2, 5), (1, 3), (6, 2), (6, 5), (4, 2), (4, 5), (3, 3), (5, 6), (3, 6), (5, 3), (2, 4), (1, 2), (2, 1), (1, 5), (6, 1), (6, 4), (3, 2), (4, 1), (3, 5), (5, 2), (4, 4), (5, 5), (1, 1), (1, 4), (2, 3), (2, 6), (6, 6), (6, 3)}\n"
          ]
        },
        {
          "output_type": "execute_result",
          "data": {
            "text/plain": [
              "36"
            ]
          },
          "metadata": {},
          "execution_count": 3
        }
      ]
    },
    {
      "cell_type": "code",
      "source": [
        "# 2.2)\n",
        "E = set(x for x in espacio_muestral if sum(x)<7)\n",
        "print(E)"
      ],
      "metadata": {
        "id": "YP4mwzLU5ACY",
        "colab": {
          "base_uri": "https://localhost:8080/"
        },
        "outputId": "55d19a8a-eecc-41cf-d1b5-fc95529af59b"
      },
      "execution_count": null,
      "outputs": [
        {
          "output_type": "stream",
          "name": "stdout",
          "text": [
            "{(2, 4), (1, 2), (2, 1), (1, 5), (3, 1), (4, 1), (1, 1), (5, 1), (4, 2), (1, 4), (2, 3), (3, 3), (2, 2), (3, 2), (1, 3)}\n"
          ]
        }
      ]
    },
    {
      "cell_type": "code",
      "source": [
        "# 2.3)\n",
        "len(E)/len(espacio_muestral)"
      ],
      "metadata": {
        "id": "7szKR_dZ5Ebm",
        "colab": {
          "base_uri": "https://localhost:8080/"
        },
        "outputId": "725d489e-0ccd-4396-af37-3621b6c05534"
      },
      "execution_count": null,
      "outputs": [
        {
          "output_type": "execute_result",
          "data": {
            "text/plain": [
              "0.4166666666666667"
            ]
          },
          "metadata": {},
          "execution_count": 5
        }
      ]
    },
    {
      "cell_type": "markdown",
      "source": [
        "¿Qué hicimos en el código anterior?\n",
        "\n",
        "* usamos la función ``range()`` para crear el conjunto de posibles resultados del lanzamiento de un dado. Hay que recordar que ``range(a,b)`` devuelve los números enteros del intervalo $[a,b)$;\n",
        "* usamos la función ``set()`` y ``product`` para armar el producto cartesiano del conjunto \"posibles\" para armar las duplas del espacio muestral. Ya habíamos cargado la función ``product`` de la librería ``itertools`` en esta sesión, por lo que no es necesario cargarla nuevamente;\n",
        "* usamos la función ``set()`` para crear el conjunto del evento de interés y la sintaxis ``x for x in ...`` para poder dar la condición ``if`` que deberán cumplir los elementos que integrarán este conjunto. En este caso, usamos la función ``sum()`` para poder representar la condición de que la suma no sea mayor que 7, es decir, ``sum(x)<7``. Esta línea de código, entonces, guarda en el conjunto creado todos los elementos del espacio muestral tales que su suma es menor que 7;\n",
        "* al final, usamos la función ``len`` para contar los elementos del conjunto y del espacio y, con esos cardinales, calcular la probabilidad pedida. Esto es posible ya que el espacio muestral así definido es finito y equiprobable."
      ],
      "metadata": {
        "id": "Oez8ea295EHN"
      }
    },
    {
      "cell_type": "markdown",
      "source": [
        "### Ejemplo 3\n",
        "\n",
        "Escribir un código para calcular la probabilidad de que la suma de los resultados del lanzamiento de 3 dados sea un múltiplo de 3."
      ],
      "metadata": {
        "id": "dn22VCvP7dPP"
      }
    },
    {
      "cell_type": "code",
      "source": [
        "posibles = range(1,7)\n",
        "espacio_muestral = set(product(posibles, repeat=3))\n",
        "E = set(x for x in espacio_muestral if sum(x)%3==0)\n",
        "len(E)/len(espacio_muestral)"
      ],
      "metadata": {
        "id": "oXEB8ot17s4K",
        "colab": {
          "base_uri": "https://localhost:8080/"
        },
        "outputId": "706ea3b5-eba5-4075-d230-cbb78eb913cd"
      },
      "execution_count": null,
      "outputs": [
        {
          "output_type": "execute_result",
          "data": {
            "text/plain": [
              "0.3333333333333333"
            ]
          },
          "metadata": {},
          "execution_count": 12
        }
      ]
    },
    {
      "cell_type": "markdown",
      "source": [
        "¿Qué hicimos en el código anterior?\n",
        "\n",
        "Integramos todo lo que aprendimos antes. Notemos que en solo 4 líneas de código fue posible calcular una probabilidad que, de haberla querido calcular a mano, no hubiera sido sencillo. ¿Qué hubiese sido lo difícil? Posiblemente, el saber cuántos elementos de $\\Omega$ hay en el conjunto $E$ asociado al evento \"la suma de los resultados del lanzamiento de 3 dados sea un múltiplo de 3\".\n",
        "\n",
        "Sin embargo, al usar la condición ``sum(x)%3==0`` pudimos pedirle a la computadora que guarde todos los elementos que nos interesaba para luego contarlos y calcular la probabilidad buscada. Recordemos que el operador ``%`` calcula el resto de la división entera y, como queremos las ternas de $\\Omega$ cuya suma sea divisible por 3, el resto de dividir esa suma por 3 tiene que ser 0."
      ],
      "metadata": {
        "id": "pmZJ173L8L4r"
      }
    },
    {
      "cell_type": "markdown",
      "source": [
        "### Ejemplo 4\n",
        "\n",
        "Escribir un código para calcular la probabilidad de que el producto de los resultados de tres lanzamientos de un dados sea menor que 50."
      ],
      "metadata": {
        "id": "fVZ_i7UU97hr"
      }
    },
    {
      "cell_type": "code",
      "source": [
        "posibles = range(1,7)\n",
        "espacio_muestral = set(product(posibles, repeat=3))\n",
        "import numpy as np\n",
        "E = set(x for x in espacio_muestral if np.prod(x)<50)\n",
        "len(E)/len(espacio_muestral)"
      ],
      "metadata": {
        "id": "DRBNq3ue-LaY",
        "colab": {
          "base_uri": "https://localhost:8080/"
        },
        "outputId": "f8dba8ac-74bb-43c5-859a-a8a91a510136"
      },
      "execution_count": null,
      "outputs": [
        {
          "output_type": "execute_result",
          "data": {
            "text/plain": [
              "0.6944444444444444"
            ]
          },
          "metadata": {},
          "execution_count": 15
        }
      ]
    },
    {
      "cell_type": "markdown",
      "source": [
        "¿Qué hicimos en el código anterior?\n",
        "\n",
        "Algo muy parecido a lo que hicimos en el Ejemplo 3, solo que ahora la condición era que el producto de los elementos de la terna resultara menor que 50. Para poder multiplicar los elementos de la terna usamos la función ``prod`` de la librería ``numpy``.\n",
        "\n",
        "La librería ``numpy`` de Python permite realizar cálculos avanzados, como los que típicamente encontraríamos en una buena calculadora científica. Con la sintaxis ``import numpy as np``, importamos todas las funciones disponibles en ella, pues como es una librería que usaremos con bastante frecuencia, no conviene ir importando una a una sus funciones. La abreviatura ``np`` nos permite usar sus funciones usando una sintaxis del tipo ``np.function()`` en lugar de ``numpy.function()``. Es frecuente usar este tipo de abreviaturas.\n",
        "\n",
        "De esta forma, ``np.prod(x)`` permite calcular el producto conjunto de todos los elementos del objeto ``(x)``."
      ],
      "metadata": {
        "id": "NAo-EJha-eo6"
      }
    },
    {
      "cell_type": "markdown",
      "source": [
        "## Estimación de probabilidades\n",
        "\n",
        "Comenzaremos esta sección estimando algunas probabilidades que surgen de ejercicios similares a los del Libro y la Práctica 1 y que podremos estimar a través de simulaciones.\n",
        "\n",
        "En esencia, lo que haremos será simular un experimento aleatorio con Python y repetirlo una gran cantidad de veces para ver la frecuencia relativa de algún evento de interés. Pero antes de continuar, tenemos que presentar los números pseudo-aleatorios."
      ],
      "metadata": {
        "id": "Q4UG_9ErAGss"
      }
    },
    {
      "cell_type": "markdown",
      "source": [
        "### Números pseudo-aleatorios\n",
        "\n",
        "Cualquier lenguaje de programación tiene una función ``random``, que cuando la llamamos nos devuelve un número pseudo-aleatorio entre 0 y 1.\n",
        "\n",
        "Un número es aleatorio si la probabilidad de ser elegido fuera la misma para cualquiera de los de su clase, es decir, si todos ellos fueran *igualmente probables*. Estos números pueden modelarse teóricamente y estudiaremos su distribución de probabilidades recién en la Posta 3, cuando visitemos la distribución uniforme.\n",
        "\n",
        "Ahora bien, los números aleatorios son muy difíciles de obtener y, en rigor, solo existen en la naturaleza. Sin embargo, después de muchos años de desarrollo e investigaciones de la Matemática y las Ciencias de la Computación, en la actualidad es posible obtener números _pseudo-aleatorios_, que no son aleatorios en sentido estricto pues son generados con algún algoritmo, pero se parecen _mucho_ a los que sí lo son. (¡A efectos prácticos son indistinguibles!)"
      ],
      "metadata": {
        "id": "AyHQKqGgxoAR"
      }
    },
    {
      "cell_type": "code",
      "execution_count": null,
      "metadata": {
        "id": "twU7bOlUk9Qp"
      },
      "outputs": [],
      "source": [
        "# Importamos la librería random\n",
        "import random as rd"
      ]
    },
    {
      "cell_type": "code",
      "execution_count": null,
      "metadata": {
        "id": "D8VcKU7rk9Qr",
        "colab": {
          "base_uri": "https://localhost:8080/"
        },
        "outputId": "facdc12f-bfc1-4d8e-cc97-f82e54ef36ca"
      },
      "outputs": [
        {
          "output_type": "execute_result",
          "data": {
            "text/plain": [
              "0.26589868380315873"
            ]
          },
          "metadata": {},
          "execution_count": 11
        }
      ],
      "source": [
        "#Cada vez que ejecutamos este código obtenemos un número distinto entre 0 y 1:\n",
        "rd.random()"
      ]
    },
    {
      "cell_type": "code",
      "execution_count": null,
      "metadata": {
        "id": "oWJa6CxWk9Qr",
        "colab": {
          "base_uri": "https://localhost:8080/"
        },
        "outputId": "437f6c81-4da9-464c-8ffa-3ebb919e39a1"
      },
      "outputs": [
        {
          "output_type": "stream",
          "name": "stdout",
          "text": [
            "0.05397359699839521\n",
            "0.8156688486834124\n",
            "0.45503011498244783\n",
            "0.9217394052243306\n",
            "0.31660403705636475\n",
            "0.4432842855606868\n",
            "0.8964818435635685\n",
            "0.857631770798965\n",
            "0.4869149422788268\n",
            "0.8164860031911331\n"
          ]
        }
      ],
      "source": [
        "#Generamos 10 números pseudo-aleatorios y los imprimimos\n",
        "for i in range(10):\n",
        "    print(rd.random())"
      ]
    },
    {
      "cell_type": "markdown",
      "metadata": {
        "id": "lBsBVvs0k9Qs"
      },
      "source": [
        "Además, Python nos ofrece otras funciones prácticas:\n",
        "\n",
        " - ``rd.randint(a,b)`` devuelve un número entero entre a y b (inclusive). Todos los números entre a y b son *igualmente probables*.\n",
        " - ``rd.choice(lista)`` devuelve un elemento de ``lista`` (que debe ser una lista, cadena de caracteres, conjunto...). Todos los elementos son *igualmente probables*."
      ]
    },
    {
      "cell_type": "code",
      "execution_count": null,
      "metadata": {
        "id": "pnEN4Xfvk9Qs",
        "colab": {
          "base_uri": "https://localhost:8080/"
        },
        "outputId": "a04da985-62f3-4977-c92f-28c04cf98c1a"
      },
      "outputs": [
        {
          "output_type": "stream",
          "name": "stdout",
          "text": [
            "11\n",
            "15\n",
            "15\n",
            "10\n",
            "17\n",
            "13\n",
            "15\n",
            "13\n",
            "18\n",
            "18\n"
          ]
        }
      ],
      "source": [
        "for i in range(10):\n",
        "    print (rd.randint(10,20))"
      ]
    },
    {
      "cell_type": "code",
      "execution_count": null,
      "metadata": {
        "id": "4FRW1Vgxk9Qs",
        "colab": {
          "base_uri": "https://localhost:8080/"
        },
        "outputId": "b1584f77-d1f2-4e6f-e7b0-c32b8d59a7f2"
      },
      "outputs": [
        {
          "output_type": "stream",
          "name": "stdout",
          "text": [
            "E\n",
            "A\n",
            "I\n",
            "E\n",
            "A\n",
            "O\n",
            "O\n",
            "O\n",
            "O\n",
            "I\n"
          ]
        }
      ],
      "source": [
        "for i in range(10):\n",
        "    print(rd.choice('AEIOU'))"
      ]
    },
    {
      "cell_type": "markdown",
      "metadata": {
        "id": "Vpfi3w9Kk9Qs"
      },
      "source": [
        "### Semilla aleatoria\n",
        "\n",
        "Como decíamos, estos números *parecen aleatorios* pero no lo son, porque **la computadora los obtiene aplicando reglas deterministas, algoritmos**. También vimos que esto no es un inconveniente en la práctica, porque son casi imposibles de distinguir de números auténticamente aleatorios.\n",
        "\n",
        "De hecho, es una virtud, porque si fijamos una **semilla**, podemos obtener exactamente los mismos números, aunque hagamos el cálculo en máquinas distintas hoy, o varios años después."
      ]
    },
    {
      "cell_type": "code",
      "execution_count": null,
      "metadata": {
        "id": "8-7LMPzjk9Qt",
        "colab": {
          "base_uri": "https://localhost:8080/"
        },
        "outputId": "c8fc5363-e08b-4779-a935-491e38550975"
      },
      "outputs": [
        {
          "output_type": "stream",
          "name": "stdout",
          "text": [
            "0.46300735781502145\n",
            "0.37331193139504204\n",
            "0.13853941251445523\n",
            "0.8665618499863413\n",
            "0.006435054081123326\n",
            "0.5027820800522084\n",
            "0.8982979700319381\n",
            "0.08081464718300102\n",
            "0.5542704681782861\n",
            "0.6166500426836184\n",
            "10\n",
            "16\n",
            "12\n",
            "17\n",
            "16\n",
            "12\n",
            "12\n",
            "13\n",
            "10\n",
            "11\n",
            "E\n",
            "U\n",
            "U\n",
            "A\n",
            "O\n",
            "A\n",
            "I\n",
            "E\n",
            "E\n",
            "O\n",
            "0.13436424411240122\n",
            "0.8474337369372327\n",
            "0.763774618976614\n",
            "0.2550690257394217\n",
            "0.49543508709194095\n",
            "0.4494910647887381\n",
            "0.651592972722763\n",
            "0.7887233511355132\n",
            "0.0938595867742349\n",
            "0.02834747652200631\n"
          ]
        }
      ],
      "source": [
        "# Si cambiamos la semilla, las elecciones cambian,\n",
        "# pero con la misma semilla obtenemos los mismos resultados.\n",
        "rd.seed(9)\n",
        "for i in range(10):\n",
        "    print (rd.random())\n",
        "for i in range(10):\n",
        "    print (rd.randint(10,20))\n",
        "for i in range(10):\n",
        "    print(rd.choice('AEIOU'))\n",
        "\n",
        "# Con esto deberíamos obtener la misma secuencia del inicio\n",
        "rd.seed(1)\n",
        "for i in range(10):\n",
        "    print (rd.random())"
      ]
    },
    {
      "cell_type": "markdown",
      "metadata": {
        "id": "TZNkKGX0k9Qt"
      },
      "source": [
        "### Simulaciones numéricas\n",
        "\n",
        "Vamos a simular un ejercicio típico de probabilidad. Usaremos siempre el mismo enfoque:\n",
        "\n",
        "- Escribimos una función aleatoria: *devuelve el resultado de simular el experimento una vez*. El resultado es distinto cada vez que llamamos a la función, y las distintas llamadas son **independientes** (por ahora nos conformaremos con una noción intuitiva de *independencia*: las llamadas son independientes porque el resultado de una llamada no nos ayuda a predecir el resultado de llamar una segunda vez). Es necesario ser capaces de simular el resultado del experimento usando las funciones del módulo ``random``.\n",
        "- Tomamos una **muestra** de tamaño finito, llamando a la función anterior un número ``N`` de veces.\n",
        "- Si queremos calcular la probabilidad de un *evento E* , necesitaremos una función que reciba como argumento un elemento ``x`` del espacio muestral, y devuelva ``True``si ``x`` pertenece al *evento E*, y ``False`` en caso contrario.\n",
        "- Nuestra *aproximación a la probabilidad del evento E* será la *proporción* de elementos de la muestra que pertenecen a E, es decir\n",
        "\n",
        "$$ P(E) \\approx \\frac{\\text{nº de casos favorables}}{\\text{tamaño de la muestra}}.$$\n",
        "\n",
        "En la Posta 4 estudiaremos por qué esta estrategia efectivamente estima/aproxima a la probabilidad del evento de interés. Por ahora, con la intuición es suficiente."
      ]
    },
    {
      "cell_type": "markdown",
      "metadata": {
        "id": "TWpfNId9k9Qt"
      },
      "source": [
        "#### Estructura de una simulación\n",
        "\n",
        "#### 1): Experimento aleatorio\n",
        "\n",
        "Cada ejecución del experimento aleatorio devuelve un elemento del espacio muestral.\n",
        "\n",
        "```python\n",
        "def experimento():\n",
        "    resultado = ... random ...\n",
        "    return resultado\n",
        "```\n",
        "\n",
        "#### 2): Muestra aleatoria\n",
        "\n",
        "Recopilamos la muestra aleatoria, ejecutando el experimento un número N de veces.\n",
        "\n",
        "```python\n",
        "# Cuanto mayor N, más costoso es para la computadora,\n",
        "# pero nos provee una mejor aproximación de la probabilidad.\n",
        "N = 1000\n",
        "\n",
        "# La función \"muestra\" hace N llamadas a la misma función \"experimento\",\n",
        "# que cada vez, devuelve un resultado distinto\n",
        "muestra = [experimento() for _ in range(N)]\n",
        "```\n",
        "\n",
        "\n",
        "#### 3): Una función _\"filtro\"_ que caracteriza el evento E\n",
        "\n",
        "Devuelve True para los eventos elementales que pertenecen al evento E\n",
        "```python\n",
        "def es_evento_E(resultado):\n",
        "    if ... condicion ... :\n",
        "        return True\n",
        "    else:\n",
        "        return False\n",
        "```\n",
        "\n",
        "#### 4: Aproximamos P(E) por la proporción de elementos de E en la muestra\n",
        "\n",
        "Aproximamos la probabilidad de E por la proporción  de elementos de E en la muestra: _sumamos 1 por cada elemento de la muestra que está en E y dividimos por el total de repeticiones_.\n",
        "\n",
        "```python\n",
        "# Para cada elemento \"e\" de la muestra, es_evento_E(e) es True\n",
        "# si \"e\" pertenece a E. La suma de una secuencia de booleanos es la\n",
        "# cantidad de booleanos que son \"True\"\n",
        "proporcion_E = sum(es_evento_E(e) for e in muestra)/N\n",
        "\n",
        "```"
      ]
    },
    {
      "cell_type": "markdown",
      "metadata": {
        "id": "g2KnIy2dk9Qu"
      },
      "source": [
        "### Ejemplo 5\n",
        "\n",
        "Se tienen dos urnas, y cada una de ellas contiene un número diferente de bolas blancas y rojas:\n",
        " - Primera urna, U1: 3 bolas blancas y 2 rojas;\n",
        " - Segunda urna, U2: 4 bolas blancas y 2 rojas.\n",
        "\n",
        "Se realiza el siguiente experimento aleatorio: se tira una moneda al aire y\n",
        "\n",
        "*   si sale cara se elige una bola de la primera urna y\n",
        "*   si sale cruz se elige una bola de la segunda urna.\n",
        "\n",
        "¿Cuál es la probabilidad de que salga una bola blanca?\n",
        "\n",
        "Resolver \"a mano\", con lápiz y papel (la respuesta es $\\frac{19}{30}$); luego, armar una simulación con $N=1000$ y estudiar si lo obtenido se aproxima a la probabilidad verdadera."
      ]
    },
    {
      "cell_type": "code",
      "execution_count": null,
      "metadata": {
        "id": "2bwM7kXFk9Qu"
      },
      "outputs": [],
      "source": [
        "#### 1: Experimento aleatorio\n",
        "def experimento_urnas():\n",
        "    '''\n",
        "    Función aleatoria que devuelve el resultado de simular el experimento *una vez*.\n",
        "    El resultado es distinto cada vez que llamamos a la función.\n",
        "    El resultado puede ser 'B' (bola blanca) o 'R' (bola roja)\n",
        "    '''\n",
        "    # Lanzamos la \"moneda\".\n",
        "    # Notemos que \"lanzar la moneda\" dará lugar a la misma\n",
        "    # distribución de probabilidades que elegir entre los\n",
        "    # números 1 y 2 con igual probabilidad (0.5 cada uno).\n",
        "    urna = rd.randint(1,2)\n",
        "    if urna == 1:\n",
        "        # Sacamos una bola de la urna 1.\n",
        "        return rd.choice('BBBRR')\n",
        "    else:\n",
        "        # Sacamos una bola de la urna 2.\n",
        "        return rd.choice('BBBBRR')"
      ]
    },
    {
      "cell_type": "code",
      "execution_count": null,
      "metadata": {
        "id": "VwI7HUZUk9Qu"
      },
      "outputs": [],
      "source": [
        "# Probamos la función.\n",
        "# Es decir, simulamos 10 repeticiones de este experimento.\n",
        "for _ in range(10):\n",
        "    bola = experimento_urnas()\n",
        "    print(bola)"
      ]
    },
    {
      "cell_type": "code",
      "execution_count": null,
      "metadata": {
        "id": "rV-CFrUvk9Qu"
      },
      "outputs": [],
      "source": [
        "#### 2: Muestra aleatoria\n",
        "# Sintentizamos lo anterior con un N=10 para ver que funciona bien.\n",
        "N = 10\n",
        "muestra = [experimento_urnas() for _ in range(N)]\n",
        "print(muestra)"
      ]
    },
    {
      "cell_type": "code",
      "execution_count": null,
      "metadata": {
        "id": "Cy-O_lJ1k9Qu"
      },
      "outputs": [],
      "source": [
        "#### 3: Una función _\"filtro\"_ que caracteriza el evento E\n",
        "\n",
        "def es_bola_blanca(bola):\n",
        "    '''\n",
        "    Función que recibe como argumento un string, que puede ser\n",
        "        \"B\" (representa una bola blanca)\n",
        "        \"R\" (representa una bola roja)\n",
        "    Devuelve True <=> el argumento es \"B\" (una bola blanca)\n",
        "    '''\n",
        "    return (bola=='B')"
      ]
    },
    {
      "cell_type": "code",
      "execution_count": null,
      "metadata": {
        "id": "I5aT312Tk9Qv"
      },
      "outputs": [],
      "source": [
        "#### Código alternativo totalmente equivalente al anterior\n",
        "def es_bola_blanca(bola):\n",
        "    '''\n",
        "    Función que recibe como argumento un string, que puede ser\n",
        "        \"B\" (representa una bola blanca)\n",
        "        \"R\" (representa una bola roja)\n",
        "    Devuelve True <=> el argumento es \"B\" (una bola blanca)\n",
        "    '''\n",
        "    if bola=='B':\n",
        "        return True\n",
        "    else:\n",
        "        return False"
      ]
    },
    {
      "cell_type": "code",
      "execution_count": null,
      "metadata": {
        "id": "KXsf1UdTk9Qv"
      },
      "outputs": [],
      "source": [
        "# Fijamos una semilla para que los resultados sean reproducibles.\n",
        "# Testeamos la función anterior para un N grande\n",
        "rd.seed(123)\n",
        "N = 100\n",
        "muestra = [experimento_urnas() for _ in range(N)]\n",
        "muestra"
      ]
    },
    {
      "cell_type": "code",
      "source": [
        "#### 4: Aproximamos P(E) por la proporción de elementos de E en la muestra\n",
        "prob = sum(1 for e in muestra if es_bola_blanca(e))/N\n",
        "print('Probabilidad aproximada de bola blanca:', prob)\n",
        "\n",
        "# Probá cambiando la semilla: vas a ver que la aproximación cambia,\n",
        "# pero, en general, variará \"cerca\" del verdadero valor 19/30=0.633... ."
      ],
      "metadata": {
        "id": "HAOvkZBLIReP",
        "colab": {
          "base_uri": "https://localhost:8080/"
        },
        "outputId": "1769f174-21a1-4453-d1b9-7b29e44817ad"
      },
      "execution_count": null,
      "outputs": [
        {
          "output_type": "stream",
          "name": "stdout",
          "text": [
            "Probabilidad aproximada de bola blanca: 0.66\n"
          ]
        }
      ]
    },
    {
      "cell_type": "markdown",
      "metadata": {
        "id": "cCJA1Htqk9Qv"
      },
      "source": [
        "### Ejemplo 6\n",
        "\n",
        "Una urna contiene 5 bolas numeradas 1, 2, 3, 4 y 5. Calcular la probabilidad de que al sacar 2 bolas **con** reposición la suma de los números de las bolas sea impar."
      ]
    },
    {
      "cell_type": "code",
      "execution_count": null,
      "metadata": {
        "id": "YN7hD89Kk9Qv"
      },
      "outputs": [],
      "source": [
        "#### 1: Experimento aleatorio\n",
        "numeros1al5 = list(range(1,6))\n",
        "\n",
        "def experimento_dos_bolas():\n",
        "    '''\n",
        "    Función aleatoria que devuelve el resultado de simular el experimento *una vez*.\n",
        "    El resultado es distinto cada vez que llamamos a la función.\n",
        "    El resultado es un par de números (las dos bolas)\n",
        "    '''\n",
        "    bola1 = rd.choice(numeros1al5)\n",
        "    bola2 = rd.choice(numeros1al5)\n",
        "    return [bola1, bola2]"
      ]
    },
    {
      "cell_type": "code",
      "execution_count": null,
      "metadata": {
        "id": "RpwSb3Cjk9Qv"
      },
      "outputs": [],
      "source": [
        "# La chequeamos\n",
        "experimento_dos_bolas()"
      ]
    },
    {
      "cell_type": "code",
      "execution_count": null,
      "metadata": {
        "id": "tcv93xZpk9Qw",
        "colab": {
          "base_uri": "https://localhost:8080/",
          "height": 332
        },
        "outputId": "f7d2dff6-aafe-4c63-b3af-902ce0393ffb"
      },
      "outputs": [
        {
          "output_type": "error",
          "ename": "NameError",
          "evalue": "name 'experimento_dos_bolas' is not defined",
          "traceback": [
            "\u001b[0;31m---------------------------------------------------------------------------\u001b[0m",
            "\u001b[0;31mNameError\u001b[0m                                 Traceback (most recent call last)",
            "\u001b[0;32m<ipython-input-25-73c2d4cce67a>\u001b[0m in \u001b[0;36m<cell line: 4>\u001b[0;34m()\u001b[0m\n\u001b[1;32m      2\u001b[0m \u001b[0mrd\u001b[0m\u001b[0;34m.\u001b[0m\u001b[0mseed\u001b[0m\u001b[0;34m(\u001b[0m\u001b[0;36m123\u001b[0m\u001b[0;34m)\u001b[0m\u001b[0;34m\u001b[0m\u001b[0;34m\u001b[0m\u001b[0m\n\u001b[1;32m      3\u001b[0m \u001b[0mN\u001b[0m \u001b[0;34m=\u001b[0m \u001b[0;36m10000\u001b[0m\u001b[0;34m\u001b[0m\u001b[0;34m\u001b[0m\u001b[0m\n\u001b[0;32m----> 4\u001b[0;31m \u001b[0mmuestra\u001b[0m \u001b[0;34m=\u001b[0m \u001b[0;34m[\u001b[0m\u001b[0mexperimento_dos_bolas\u001b[0m\u001b[0;34m(\u001b[0m\u001b[0;34m)\u001b[0m \u001b[0;32mfor\u001b[0m \u001b[0mi\u001b[0m \u001b[0;32min\u001b[0m \u001b[0mrange\u001b[0m\u001b[0;34m(\u001b[0m\u001b[0mN\u001b[0m\u001b[0;34m)\u001b[0m\u001b[0;34m]\u001b[0m\u001b[0;34m\u001b[0m\u001b[0;34m\u001b[0m\u001b[0m\n\u001b[0m\u001b[1;32m      5\u001b[0m \u001b[0;34m\u001b[0m\u001b[0m\n\u001b[1;32m      6\u001b[0m \u001b[0;31m#### 3: Una función _\"filtro\"_\u001b[0m\u001b[0;34m\u001b[0m\u001b[0;34m\u001b[0m\u001b[0m\n",
            "\u001b[0;32m<ipython-input-25-73c2d4cce67a>\u001b[0m in \u001b[0;36m<listcomp>\u001b[0;34m(.0)\u001b[0m\n\u001b[1;32m      2\u001b[0m \u001b[0mrd\u001b[0m\u001b[0;34m.\u001b[0m\u001b[0mseed\u001b[0m\u001b[0;34m(\u001b[0m\u001b[0;36m123\u001b[0m\u001b[0;34m)\u001b[0m\u001b[0;34m\u001b[0m\u001b[0;34m\u001b[0m\u001b[0m\n\u001b[1;32m      3\u001b[0m \u001b[0mN\u001b[0m \u001b[0;34m=\u001b[0m \u001b[0;36m10000\u001b[0m\u001b[0;34m\u001b[0m\u001b[0;34m\u001b[0m\u001b[0m\n\u001b[0;32m----> 4\u001b[0;31m \u001b[0mmuestra\u001b[0m \u001b[0;34m=\u001b[0m \u001b[0;34m[\u001b[0m\u001b[0mexperimento_dos_bolas\u001b[0m\u001b[0;34m(\u001b[0m\u001b[0;34m)\u001b[0m \u001b[0;32mfor\u001b[0m \u001b[0mi\u001b[0m \u001b[0;32min\u001b[0m \u001b[0mrange\u001b[0m\u001b[0;34m(\u001b[0m\u001b[0mN\u001b[0m\u001b[0;34m)\u001b[0m\u001b[0;34m]\u001b[0m\u001b[0;34m\u001b[0m\u001b[0;34m\u001b[0m\u001b[0m\n\u001b[0m\u001b[1;32m      5\u001b[0m \u001b[0;34m\u001b[0m\u001b[0m\n\u001b[1;32m      6\u001b[0m \u001b[0;31m#### 3: Una función _\"filtro\"_\u001b[0m\u001b[0;34m\u001b[0m\u001b[0;34m\u001b[0m\u001b[0m\n",
            "\u001b[0;31mNameError\u001b[0m: name 'experimento_dos_bolas' is not defined"
          ]
        }
      ],
      "source": [
        "#### 2: Muestra aleatoria\n",
        "rd.seed(123)\n",
        "N = 10000\n",
        "muestra = [experimento_dos_bolas() for _ in range(N)]\n",
        "\n",
        "#### 3: Una función _\"filtro\"_\n",
        "def suma_es_impar(bolas):\n",
        "    return sum(bolas)%2 == 1\n",
        "\n",
        "#### 4: Aproximamos P(E) por la proporción de elementos de E en la muestra\n",
        "prob = sum(1 for e in muestra if suma_es_impar(e))/N\n",
        "print('Probabilidad aproximada de que la suma sea impar:', prob)"
      ]
    },
    {
      "cell_type": "markdown",
      "source": [
        "¿Te animás a calcular esta probabilidad \"a mano\"? Si no querés hacerlo \"a mano\" (con lápiz y papel), también podemos usar los ejemplos de la sección de cálculo de probabilidades de este Notebook."
      ],
      "metadata": {
        "id": "xgfKrogxJQ6C"
      }
    },
    {
      "cell_type": "markdown",
      "metadata": {
        "id": "WsfjyJJpk9Qw"
      },
      "source": [
        "### Ejemplo 7\n",
        "\n",
        "Una urna contiene 5 bolas numeradas 1, 2, 3, 4 y 5. Calcular la probabilidad de que al sacar 2 bolas **sin** reposición la sumade los números de las bolas sea impar."
      ]
    },
    {
      "cell_type": "code",
      "execution_count": null,
      "metadata": {
        "id": "MVvsjsOik9Qw"
      },
      "outputs": [],
      "source": [
        "#### 1: Experimento aleatorio\n",
        "numeros1al5 = range(1,6)\n",
        "\n",
        "def experimento_dos_bolas_sin_reposicion():\n",
        "    '''\n",
        "    Función aleatoria que devuelve el resultado de simular el experimento *una vez*.\n",
        "    El resultado es distinto cada vez que llamamos a la función.\n",
        "    El resultado es un par de números (las dos bolas)\n",
        "    '''\n",
        "    # Usamos la función \"sample\" para elegir sin reposición\n",
        "    bolas = rd.sample(numeros1al5,2)\n",
        "    return (bolas)"
      ]
    },
    {
      "cell_type": "code",
      "execution_count": null,
      "metadata": {
        "id": "RRiE5cntk9Qw",
        "colab": {
          "base_uri": "https://localhost:8080/",
          "height": 211
        },
        "outputId": "b2531075-25c9-4548-c39f-667de4261067"
      },
      "outputs": [
        {
          "output_type": "error",
          "ename": "NameError",
          "evalue": "name 'rd' is not defined",
          "traceback": [
            "\u001b[0;31m---------------------------------------------------------------------------\u001b[0m",
            "\u001b[0;31mNameError\u001b[0m                                 Traceback (most recent call last)",
            "\u001b[0;32m<ipython-input-8-3797eba59cfc>\u001b[0m in \u001b[0;36m<cell line: 2>\u001b[0;34m()\u001b[0m\n\u001b[1;32m      1\u001b[0m \u001b[0;31m#### 2: Muestra aleatoria\u001b[0m\u001b[0;34m\u001b[0m\u001b[0;34m\u001b[0m\u001b[0m\n\u001b[0;32m----> 2\u001b[0;31m \u001b[0mrd\u001b[0m\u001b[0;34m.\u001b[0m\u001b[0mseed\u001b[0m\u001b[0;34m(\u001b[0m\u001b[0;36m1\u001b[0m\u001b[0;34m)\u001b[0m\u001b[0;34m\u001b[0m\u001b[0;34m\u001b[0m\u001b[0m\n\u001b[0m\u001b[1;32m      3\u001b[0m \u001b[0mN\u001b[0m \u001b[0;34m=\u001b[0m \u001b[0;36m1000\u001b[0m\u001b[0;34m\u001b[0m\u001b[0;34m\u001b[0m\u001b[0m\n\u001b[1;32m      4\u001b[0m \u001b[0mmuestra\u001b[0m \u001b[0;34m=\u001b[0m \u001b[0;34m[\u001b[0m\u001b[0mexperimento_dos_bolas_sin_reposicion\u001b[0m\u001b[0;34m(\u001b[0m\u001b[0;34m)\u001b[0m \u001b[0;32mfor\u001b[0m \u001b[0m_\u001b[0m \u001b[0;32min\u001b[0m \u001b[0mrange\u001b[0m\u001b[0;34m(\u001b[0m\u001b[0mN\u001b[0m\u001b[0;34m)\u001b[0m\u001b[0;34m]\u001b[0m\u001b[0;34m\u001b[0m\u001b[0;34m\u001b[0m\u001b[0m\n\u001b[1;32m      5\u001b[0m \u001b[0;34m\u001b[0m\u001b[0m\n",
            "\u001b[0;31mNameError\u001b[0m: name 'rd' is not defined"
          ]
        }
      ],
      "source": [
        "#### 2: Muestra aleatoria\n",
        "rd.seed(1)\n",
        "N = 1000\n",
        "muestra = [experimento_dos_bolas_sin_reposicion() for _ in range(N)]\n",
        "\n",
        "#### 3: Una función _\"filtro\"_,\n",
        "# que es la misma que para el ejemplo 7\n",
        "def suma_es_impar(bolas):\n",
        "    return sum(bolas)%2 == 1\n",
        "\n",
        "#### 4: Aproximamos P(E) por la proporción de elementos de E en la muestra\n",
        "prob = sum(suma_es_impar(e) for e in muestra)/N\n",
        "print('Probabilidad aproximada de que la suma sea impar:', prob)"
      ]
    },
    {
      "cell_type": "code",
      "execution_count": null,
      "metadata": {
        "id": "UK-wEfOak9Qx"
      },
      "outputs": [],
      "source": [
        "numeros1al5 = range(1,6)\n",
        "bolas = rd.sample(numeros1al5,2)\n",
        "bolas"
      ]
    },
    {
      "cell_type": "markdown",
      "metadata": {
        "id": "CaeA_vR_k9Qx"
      },
      "source": [
        "## Simulaciones numéricas versus cálculos exactos\n",
        "\n",
        "Vamos a comparar el resultado obtenido con la simulación del ejemplo 5 y el cálculo de la probabilidad exacta obtenida con lo que estudiamos en esta posta."
      ]
    },
    {
      "cell_type": "markdown",
      "source": [
        "### Ejemplo 5\n",
        "\n",
        "Acá detallamos algo del proceso relativo al cálculo de la probabilidad, de forma exacta, del ejemplo 5. La extracción de una bola blanca puede darse de dos formas:\n",
        "\n",
        " - Sale cara en la moneda, y después extraemos una bola blanca de la primera urna.\n",
        " - Sale cruz en la moneda, y después extraemos una bola blanca de la segunda urna.\n",
        "\n",
        "Ambos sucesos son incompatibles pues lo son ya que \"cara\" o \"cruz\" en la moneda son eventos complementarios. Luego, por el axioma 3 de la definición de probabilidad, la probabilidad de obtener bola blanca es la suma de las probabilidades de esos dos eventos.\n",
        "\n",
        "Por otro lado, cada evento tiene dos etapas, con sus eventos asociados: el lanzamiento de una moneda equilibrada y la extracción al azar de una bola en la urna correspondiente. Luego, la **probabilidad total** de que salga bola blanca es la suma de las dos probabilidades\n",
        "\n",
        " - P(Cara) $\\times$ P(Extraer bola blanca de la urna 1) = $\\frac{1}{2} \\times \\frac{3}{5}$\n",
        " - P(Cruz) $\\times$ P(Extraer bola blanca de la urna 2) = $\\frac{1}{2} \\times \\frac{4}{6}$\n",
        "\n",
        "Finalmente,\n",
        "$$\n",
        "P(\\text{bola blanca}) =\n",
        "\\frac{1}{2}\\times\\frac{3}{5} + \\frac{1}{2} \\times \\frac{4}{6} = \\frac{19}{30}.\n",
        "$$"
      ],
      "metadata": {
        "id": "1Q26Fn3WMB11"
      }
    },
    {
      "cell_type": "code",
      "execution_count": null,
      "metadata": {
        "id": "5SgoGKYpk9Qx",
        "colab": {
          "base_uri": "https://localhost:8080/",
          "height": 211
        },
        "outputId": "20fb0146-6f1c-4241-f1e9-ce6ac21892e8"
      },
      "outputs": [
        {
          "output_type": "error",
          "ename": "NameError",
          "evalue": "name 'rd' is not defined",
          "traceback": [
            "\u001b[0;31m---------------------------------------------------------------------------\u001b[0m",
            "\u001b[0;31mNameError\u001b[0m                                 Traceback (most recent call last)",
            "\u001b[0;32m<ipython-input-7-b72046f3e0ce>\u001b[0m in \u001b[0;36m<cell line: 3>\u001b[0;34m()\u001b[0m\n\u001b[1;32m      1\u001b[0m \u001b[0;31m#### 2: Muestra aleatoria\u001b[0m\u001b[0;34m\u001b[0m\u001b[0;34m\u001b[0m\u001b[0m\n\u001b[1;32m      2\u001b[0m \u001b[0;31m# Probamos otra semilla distinta a la que usamos en el ejemplo\u001b[0m\u001b[0;34m\u001b[0m\u001b[0;34m\u001b[0m\u001b[0m\n\u001b[0;32m----> 3\u001b[0;31m \u001b[0mrd\u001b[0m\u001b[0;34m.\u001b[0m\u001b[0mseed\u001b[0m\u001b[0;34m(\u001b[0m\u001b[0;36m124\u001b[0m\u001b[0;34m)\u001b[0m\u001b[0;34m\u001b[0m\u001b[0;34m\u001b[0m\u001b[0m\n\u001b[0m\u001b[1;32m      4\u001b[0m \u001b[0mN\u001b[0m \u001b[0;34m=\u001b[0m \u001b[0;36m1000\u001b[0m\u001b[0;34m\u001b[0m\u001b[0;34m\u001b[0m\u001b[0m\n\u001b[1;32m      5\u001b[0m \u001b[0mmuestra\u001b[0m \u001b[0;34m=\u001b[0m \u001b[0;34m[\u001b[0m\u001b[0mexperimento_urnas\u001b[0m\u001b[0;34m(\u001b[0m\u001b[0;34m)\u001b[0m \u001b[0;32mfor\u001b[0m \u001b[0m_\u001b[0m \u001b[0;32min\u001b[0m \u001b[0mrange\u001b[0m\u001b[0;34m(\u001b[0m\u001b[0mN\u001b[0m\u001b[0;34m)\u001b[0m\u001b[0;34m]\u001b[0m\u001b[0;34m\u001b[0m\u001b[0;34m\u001b[0m\u001b[0m\n",
            "\u001b[0;31mNameError\u001b[0m: name 'rd' is not defined"
          ]
        }
      ],
      "source": [
        "#### 2: Muestra aleatoria\n",
        "# Probamos otra semilla distinta a la que usamos en el ejemplo\n",
        "rd.seed(124)\n",
        "N = 1000\n",
        "muestra = [experimento_urnas() for _ in range(N)]\n",
        "\n",
        "#### 4: Aproximamos P(E) por la proporción de elementos de E en la muestra\n",
        "prob = sum(es_bola_blanca(e) for e in muestra)/N\n",
        "print('Probabilidad aproximada de bola blanca:', prob)\n",
        "print('Probabilidad exacta de bola blanca:', 19/30)"
      ]
    },
    {
      "cell_type": "markdown",
      "metadata": {
        "id": "zBXfE833k9Qx"
      },
      "source": [
        "### Ejemplos 6 y 7\n",
        "\n",
        "Resolvé \"a mano\" los ejemplos 6 y 7; y verificá que las probabilidades exactas son $\\frac{12}{25}$ y $\\frac{3}{5}$. Luego, probá con diferentes semillas (a gusto) y diferentes tamaños de muestra ($N \\in \\{10,100,1000,10000\\}$) para ver qué ocurre con las probabilidades estimadas a partir de las simulaciones."
      ]
    },
    {
      "cell_type": "code",
      "execution_count": null,
      "metadata": {
        "id": "0FO7nR37k9Qx",
        "colab": {
          "base_uri": "https://localhost:8080/",
          "height": 211
        },
        "outputId": "d04eafff-c614-40af-a83c-8de625a178e3"
      },
      "outputs": [
        {
          "output_type": "error",
          "ename": "NameError",
          "evalue": "name 'rd' is not defined",
          "traceback": [
            "\u001b[0;31m---------------------------------------------------------------------------\u001b[0m",
            "\u001b[0;31mNameError\u001b[0m                                 Traceback (most recent call last)",
            "\u001b[0;32m<ipython-input-6-3d0cb3d43f1e>\u001b[0m in \u001b[0;36m<cell line: 2>\u001b[0;34m()\u001b[0m\n\u001b[1;32m      1\u001b[0m \u001b[0;31m# Ejemplo 6 (dos bolas con reposición)\u001b[0m\u001b[0;34m\u001b[0m\u001b[0;34m\u001b[0m\u001b[0m\n\u001b[0;32m----> 2\u001b[0;31m \u001b[0mrd\u001b[0m\u001b[0;34m.\u001b[0m\u001b[0mseed\u001b[0m\u001b[0;34m(\u001b[0m\u001b[0;36m1\u001b[0m\u001b[0;34m)\u001b[0m\u001b[0;34m\u001b[0m\u001b[0;34m\u001b[0m\u001b[0m\n\u001b[0m\u001b[1;32m      3\u001b[0m \u001b[0mN\u001b[0m \u001b[0;34m=\u001b[0m \u001b[0;36m10000\u001b[0m\u001b[0;34m\u001b[0m\u001b[0;34m\u001b[0m\u001b[0m\n\u001b[1;32m      4\u001b[0m \u001b[0mmuestra\u001b[0m \u001b[0;34m=\u001b[0m \u001b[0;34m[\u001b[0m\u001b[0mexperimento_dos_bolas\u001b[0m\u001b[0;34m(\u001b[0m\u001b[0;34m)\u001b[0m \u001b[0;32mfor\u001b[0m \u001b[0m_\u001b[0m \u001b[0;32min\u001b[0m \u001b[0mrange\u001b[0m\u001b[0;34m(\u001b[0m\u001b[0mN\u001b[0m\u001b[0;34m)\u001b[0m\u001b[0;34m]\u001b[0m\u001b[0;34m\u001b[0m\u001b[0;34m\u001b[0m\u001b[0m\n\u001b[1;32m      5\u001b[0m \u001b[0mprob\u001b[0m \u001b[0;34m=\u001b[0m \u001b[0msum\u001b[0m\u001b[0;34m(\u001b[0m\u001b[0msuma_es_impar\u001b[0m\u001b[0;34m(\u001b[0m\u001b[0me\u001b[0m\u001b[0;34m)\u001b[0m \u001b[0;32mfor\u001b[0m \u001b[0me\u001b[0m \u001b[0;32min\u001b[0m \u001b[0mmuestra\u001b[0m\u001b[0;34m)\u001b[0m\u001b[0;34m/\u001b[0m\u001b[0mN\u001b[0m\u001b[0;34m\u001b[0m\u001b[0;34m\u001b[0m\u001b[0m\n",
            "\u001b[0;31mNameError\u001b[0m: name 'rd' is not defined"
          ]
        }
      ],
      "source": [
        "# Ejemplo 6 (dos bolas con reposición)\n",
        "rd.seed(1)\n",
        "N = 10000\n",
        "muestra = [experimento_dos_bolas() for _ in range(N)]\n",
        "prob = sum(suma_es_impar(e) for e in muestra)/N\n",
        "print('Probabilidad aproximada de que la suma sea impar:', prob)\n",
        "print('Probabilidad exacta de que la suma sea impar:', 12/25)"
      ]
    },
    {
      "cell_type": "code",
      "execution_count": null,
      "metadata": {
        "id": "1fDMX9Tbk9Qy"
      },
      "outputs": [],
      "source": [
        "# Ejemplo 7 (dos bolas sin reposición)\n",
        "rd.seed(1)\n",
        "N = 10000\n",
        "muestra = [experimento_dos_bolas_sin_reposicion() for _ in range(N)]\n",
        "prob = sum(suma_es_impar(e) for e in muestra)/N\n",
        "print('Probabilidad aproximada de que la suma de los puntos sea impar:', prob)\n",
        "print('Probabilidad exacta de que la suma de los puntos sea impar:', 3/5)"
      ]
    },
    {
      "cell_type": "markdown",
      "metadata": {
        "id": "Uoe78x1ck9Q3"
      },
      "source": [
        "# Trabajo de simulación 1\n",
        "\n",
        "Para el primer trabajo de simulación, vamos a estudiar un problema clásico. Para entrar en tema, te invitamos a ver este video de [#DATAZO](https://youtu.be/QOLEHijfT2E).\n",
        "\n",
        "El problema es así: en un grupo de $k$ personas elegidas al azar, ¿cuál es la probabilidad de que haya al menos dos que cumplan años el mismo día?\n",
        "\n",
        "Para comenzar, hagamos algunos supuestos:\n",
        "\n",
        "*   consideremos que un año tiene 365 días (¡sí, pobres lxs que cumplen el 29 de febrero!);\n",
        "*   consideremos que es igualmente probable haber nacido cualquier día del año;\n",
        "*   descartemos la posibilidad de que haya gemelxs en el grupo de personas.\n",
        "\n",
        "Estos supuestos son necesarios para poder modelar el experimento de una forma sencilla."
      ]
    },
    {
      "cell_type": "markdown",
      "source": [
        "## Resolución \"a mano\"\n",
        "\n",
        "Queremos responder la siguiente pregunta: en un grupo de $k$ personas elegidas al azar, ¿cuál es la probabilidad de que haya al menos dos que cumplan años el mismo día?\n",
        "\n",
        "Pensemos en el espacio muestral como el formado por todas las posibles fechas de cumpleaños de las $k$ personas del experimento.\n",
        "\n",
        "$$\\Omega = \\{(x_1,\\ldots,x_k) \\text{ con } x_i\\in\\{1,\\ldots,365\\} \\text{ para } 1\\leq i \\leq k\\}.$$\n",
        "\n",
        "Este espacio, así definido, es finito y equiprobable (¡aunque posiblemente tenga muchos elementos!). ¿Cuál es su cardinal? Como vemos, cada una de las $k$ personas tiene 365 posibilidades de fechas de cumpleaños, luego\n",
        "\n",
        "$$\\#\\Omega=365^k.$$\n",
        "\n",
        "Vamos a querer calcular la probabilidad de que en un grupo de $k$ personas elegidas al azar, haya **al menos dos** que cumplan años el mismo día. Lo que ocurre es que hay muchas posibles parejas de personas que cumplan años un mismo día; y contar los elementos del conjunto formado por estas puede ser muy pesado. Entonces, lo que puede convenir es calcular primero la probabilidad de que ninguna persona de un conjunto de $k$ personas elegidas al azar cumpla años el mismo día que otra.\n",
        "\n",
        "Armemos el conjunto $E:$ \"ninguna de las $k$ personas del grupo cumple años el mismo día\". Necesitamos saber cuál es su cardinal. Hay $k$ personas:\n",
        "\n",
        "- la primera cumple años en una de las 365 fechas posibles, fijémosla,\n",
        "- luego, la segunda ya no tiene 365 fechas posibles, sino 364, pues una de las fechas ya fue fijada por la primera persona,\n",
        "- luego, la tercera ya no tiene 365 ni 364 fechas posibles, sino 363, pues dos fechas fueron fijadas por las primeras dos personas,\n",
        "y así, sucesivamente, hasta llegar a la persona $k$. Es decir, el cardinal de $E$ es el siguiente\n",
        "\n",
        "$$\\#E=365\\times 364\\times 363\\times \\cdots \\times 365-k+1.$$\n",
        "\n",
        "De esta forma, la probabilidad buscada es\n",
        "$$p=\\frac{365\\times 364\\times 363\\times \\cdots \\times (365-k+1)}{365^k}.$$\n",
        "\n",
        "Ahora, $1 - p$ es la probabilidad que buscamos, pues el evento \"al menos dos personas de las $k$ elegidas cumple años el mismo día\" es el complemento del evento \"ninguna persona de las $k$ elegidas cumple años el mismo día\".\n",
        "\n",
        "Es decir, la probabilidad de que en un grupo de $k$ personas elegidas al azar, haya **al menos dos** que cumplan años el mismo día es igual a\n",
        "\n",
        "$$1-\\frac{365\\times 364\\times 363\\times \\cdots \\times (365-k+1)}{365^k}.$$\n",
        "\n",
        "Para calcular esta probabilidad, basta definir de qué tamaño será el grupo ($k$) y hacer la cuenta. Por ejemplo, para $k=23$ se tiene que\n",
        "\n",
        "$$1-\\frac{365\\times 364\\times 363\\times \\cdots \\times 343}{365^{23}}.$$\n",
        "\n",
        "Podemos armar una función en Python que haga esta cuenta."
      ],
      "metadata": {
        "id": "Q6iB7ZzWPr5T"
      }
    },
    {
      "cell_type": "code",
      "source": [
        "import math\n",
        "def proba_cumples(k):\n",
        "    '''\n",
        "    proba_cumples(k) devuelve la probabilidad de que en un grupo de k\n",
        "    personas elegidas al azar haya al menos dos que cumplañ años el mismo día\n",
        "    '''\n",
        "    prob = 1-math.prod(range(365-k+1,366))/(365**k)\n",
        "    return prob"
      ],
      "metadata": {
        "id": "KoQ-IZ34a-q5"
      },
      "execution_count": null,
      "outputs": []
    },
    {
      "cell_type": "code",
      "source": [
        "proba_cumples(60)"
      ],
      "metadata": {
        "id": "pAsIAR8OfGHF",
        "colab": {
          "base_uri": "https://localhost:8080/"
        },
        "outputId": "65ec5bb4-03f3-41fb-a54f-3003e7c07f87"
      },
      "execution_count": null,
      "outputs": [
        {
          "output_type": "execute_result",
          "data": {
            "text/plain": [
              "0.994122660865348"
            ]
          },
          "metadata": {},
          "execution_count": 31
        }
      ]
    },
    {
      "cell_type": "markdown",
      "source": [
        "## Simulación (ejercicio a entregar)\n",
        "\n",
        "Armar una simulación basada en $N=1000$ repeticiones que permita estimar la probabilidad de que al menos dos personas en un grupo de $k$ personas elegidas al azar cumpla años el mismo día. Dar una lista de las probabilidades estimadas en función de $k$ para $k$ entre 1 y 50. **[OPCIONAL]** Si es posible, representar esas probabilidades estimadas en un gráfico.\n",
        "\n",
        "Para la construcción de la simulación, se sugiere seguir la estructura propuesta en el apartado de simulaciones numéricas de este Notebook. Es decir, para un valor de $k$ que hayamos fijado, puede hacerse lo siguiente.\n",
        "\n",
        "1.  Para el armado del bullet \"1. Experimento aleatorio\", definir la función ``cumples(k)``, que devuelva ``k`` fechas de cumpleaños (``k`` números entre 1 y 365).\n",
        "2.  Para el armado del bullet \"2: Muestra aleatoria\", definir una semilla, fijar ``N`` y armar ``N=1000`` muestras de ``cumples(k)`` que se guarden en ``muestras``.\n",
        "3.  Para el armado del bullet \"3: Una función _filtro_ que caracteriza el evento E\", definir la función ``hay_coincidencia(cumples)`` que devuelva ``TRUE`` (o un 1) si hay una coincidencia en una lista ``cumples`` que sea pasada como argumento. Esta es la función que quizás sea más difícil de implementar. Hay muchas formas de hacerlo. Como pista, la función ``set()`` que ya usamos es una estructura de datos ideal para contener objetos sin repeticiones.\n",
        "4.  Para el armado del bullet \"4: Aproximamos P(E) por la proporción de elementos de E en la muestra\" contar la proporción de ``hay_coincidencia()`` en las ``N`` repeticiones de la muestra y devolver ese valor.\n",
        "\n",
        "**[SUGERENCIA]** Como quiere estimarse la probabilidad en las simulaciones para grupos de $k$ personas, donde $k$ varía desde 0 hasta 50 personas, puede crearse una función ``proporcion_coincidencia(k,N)`` que devuelva directamente una aproximación a la probabilidad de coincidencia en función del número de personas ``k``; sin tener que simular las ``N`` repeticiones en cada caso por separado. En esta función ``proporcion_coincidencia(k,N)`` pueden usarse, dentro, las funciones ``cumples()`` y ``hay_coincidencia()``."
      ],
      "metadata": {
        "id": "qZ_EPsV_P491"
      }
    },
    {
      "cell_type": "markdown",
      "source": [
        "# **Ejercicio de TP-Simulación:**"
      ],
      "metadata": {
        "id": "kSwcLMV9AP12"
      }
    },
    {
      "cell_type": "markdown",
      "source": [
        "Integrantes del equipo:\n",
        "\n",
        "*   Nicolas Lautaro Lanselota\n",
        "*   Iván Federico González\n",
        "*   Oscar Julian Sosa Ortiz\n",
        "*   José Manuel Acevedo\n",
        "*   Mariano Fabián González\n"
      ],
      "metadata": {
        "id": "X4TDkvJi57dF"
      }
    },
    {
      "cell_type": "code",
      "source": [
        "import random\n",
        "\n",
        "def cumples(k):\n",
        "    \"\"\"Genera k fechas de cumpleaños aleatorias\"\"\"\n",
        "    return [random.randint(1, 365) for _ in range(k)]\n",
        "\n",
        "def hay_coincidencia(cumples):\n",
        "    \"\"\"Verifica si hay al menos dos personas con la misma fecha de cumpleaños\"\"\"\n",
        "    return len(set(cumples)) != len(cumples)\n",
        "\n",
        "def proporcion_coincidencia(k, N):\n",
        "    \"\"\"Estima la probabilidad de coincidencia para un grupo de k personas mediante N repeticiones\"\"\"\n",
        "    coincidencias = sum(hay_coincidencia(cumples(k)) for _ in range(N))\n",
        "    return coincidencias / N"
      ],
      "metadata": {
        "id": "FLn7Dz2hAXY-"
      },
      "execution_count": null,
      "outputs": []
    },
    {
      "cell_type": "code",
      "source": [
        "# Calcular probabilidades para k de 1 a 50\n",
        "probabilidades = [proporcion_coincidencia(k, 1000) for k in range(1, 51)]\n",
        "\n",
        "# Imprimir probabilidades\n",
        "for k, prob in enumerate(probabilidades, start=1):\n",
        "    print(f'k = {k}: {prob:.4f}')\n",
        "\n",
        "# Representar las probabilidades en un gráfico (opcional)\n",
        "import matplotlib.pyplot as plt\n",
        "\n",
        "plt.plot(range(1, 51), probabilidades, marker='o')\n",
        "plt.title('Probabilidad de coincidencia de cumpleaños')\n",
        "plt.xlabel('Número de personas (k)')\n",
        "plt.ylabel('Probabilidad')\n",
        "plt.grid(True)\n",
        "plt.show()"
      ],
      "metadata": {
        "colab": {
          "base_uri": "https://localhost:8080/",
          "height": 1000
        },
        "id": "CckoI9eyAqbw",
        "outputId": "fdfa6bf5-7ecf-4269-c6b8-7c5fc08eb826"
      },
      "execution_count": null,
      "outputs": [
        {
          "output_type": "stream",
          "name": "stdout",
          "text": [
            "k = 1: 0.0000\n",
            "k = 2: 0.0070\n",
            "k = 3: 0.0080\n",
            "k = 4: 0.0160\n",
            "k = 5: 0.0290\n",
            "k = 6: 0.0310\n",
            "k = 7: 0.0430\n",
            "k = 8: 0.0770\n",
            "k = 9: 0.0870\n",
            "k = 10: 0.1190\n",
            "k = 11: 0.1360\n",
            "k = 12: 0.1850\n",
            "k = 13: 0.2000\n",
            "k = 14: 0.2450\n",
            "k = 15: 0.2370\n",
            "k = 16: 0.2990\n",
            "k = 17: 0.3290\n",
            "k = 18: 0.3700\n",
            "k = 19: 0.3560\n",
            "k = 20: 0.4390\n",
            "k = 21: 0.4310\n",
            "k = 22: 0.4620\n",
            "k = 23: 0.4980\n",
            "k = 24: 0.5250\n",
            "k = 25: 0.5460\n",
            "k = 26: 0.5840\n",
            "k = 27: 0.6590\n",
            "k = 28: 0.6550\n",
            "k = 29: 0.6780\n",
            "k = 30: 0.7050\n",
            "k = 31: 0.7140\n",
            "k = 32: 0.7580\n",
            "k = 33: 0.7960\n",
            "k = 34: 0.7990\n",
            "k = 35: 0.8020\n",
            "k = 36: 0.8340\n",
            "k = 37: 0.8630\n",
            "k = 38: 0.8560\n",
            "k = 39: 0.8950\n",
            "k = 40: 0.8950\n",
            "k = 41: 0.9100\n",
            "k = 42: 0.9160\n",
            "k = 43: 0.9110\n",
            "k = 44: 0.9180\n",
            "k = 45: 0.9510\n",
            "k = 46: 0.9450\n",
            "k = 47: 0.9590\n",
            "k = 48: 0.9700\n",
            "k = 49: 0.9750\n",
            "k = 50: 0.9700\n"
          ]
        },
        {
          "output_type": "display_data",
          "data": {
            "text/plain": [
              "<Figure size 640x480 with 1 Axes>"
            ],
            "image/png": "[encoded data removed]"
          },
          "metadata": {}
        }
      ]
    },
    {
      "cell_type": "markdown",
      "source": [
        "**1.Para el armado del bullet \"1. Experimento aleatorio\", definir la función cumples(k), que devuelva k fechas de cumpleaños (k números entre 1 y 365)...**\n"
      ],
      "metadata": {
        "id": "9lCA__ZV6dnf"
      }
    },
    {
      "cell_type": "code",
      "source": [
        "import random\n",
        "\n",
        "def cumples(k):\n",
        "    \"\"\"Genera k fechas de cumpleaños aleatorias.\"\"\"\n",
        "    cumpleanos = []\n",
        "    for _ in range(k):\n",
        "        dia_cumple = random.randint(1, 365)\n",
        "        cumpleanos.append(dia_cumple)\n",
        "    return cumpleanos\n",
        "\n",
        "print(cumples(50));"
      ],
      "metadata": {
        "colab": {
          "base_uri": "https://localhost:8080/"
        },
        "id": "fn54REWP6mgX",
        "outputId": "6e174bdf-2fd8-4278-c45c-34918b824ac9"
      },
      "execution_count": null,
      "outputs": [
        {
          "output_type": "stream",
          "name": "stdout",
          "text": [
            "[33, 349, 80, 315, 86, 51, 117, 223, 327, 218, 234, 221, 161, 294, 341, 279, 144, 158, 63, 328, 255, 354, 94, 343, 282, 253, 314, 97, 143, 238, 356, 51, 38, 60, 238, 10, 217, 75, 268, 45, 338, 301, 241, 121, 187, 265, 317, 103, 157, 67]\n"
          ]
        }
      ]
    },
    {
      "cell_type": "markdown",
      "source": [
        "**2. Para el armado del bullet \"2: Muestra aleatoria\", definir una semilla, fijar N y armar N=1000 muestras de cumples(k) que se guarden en muestras.**"
      ],
      "metadata": {
        "id": "iUwIZc_q8sQo"
      }
    },
    {
      "cell_type": "code",
      "source": [
        "import random\n",
        "\n",
        "def generar_muestras(N, k):\n",
        "    \"\"\"Genera N muestras de cumpleaños para grupos de k personas.\"\"\"\n",
        "    muestras = []\n",
        "    for _ in range(N):\n",
        "        muestra = cumples(k)\n",
        "        muestras.append(muestra)\n",
        "    return muestras\n",
        "\n",
        "# Establecer una semilla aleatoria\n",
        "random.seed(42)  # Puedes usar cualquier número como semilla\n",
        "\n",
        "# Fijar el valor de N (el número de repeticiones)\n",
        "N = 1000\n",
        "\n",
        "# Generar N muestras de cumpleaños para grupos de k personas\n",
        "k = 50  # Por ejemplo, para un grupo de 10 personas\n",
        "muestras = generar_muestras(N, k)\n",
        "\n",
        "# Imprimir una muestra de las muestras generadas\n",
        "print(\"Ejemplo de muestra generada para un grupo de 50 personas:\")\n",
        "print(muestras[0])\n"
      ],
      "metadata": {
        "colab": {
          "base_uri": "https://localhost:8080/"
        },
        "id": "k6LQAG9k8wVH",
        "outputId": "64d5d6d1-517d-433e-acbb-33ca254efca6"
      },
      "execution_count": null,
      "outputs": [
        {
          "output_type": "stream",
          "name": "stdout",
          "text": [
            "Ejemplo de muestra generada para un grupo de 50 personas:\n",
            "[328, 58, 13, 141, 126, 115, 72, 53, 347, 280, 45, 303, 217, 17, 16, 48, 112, 120, 259, 309, 14, 288, 102, 333, 360, 280, 215, 113, 230, 302, 143, 4, 82, 358, 217, 175, 143, 80, 111, 173, 53, 48, 195, 50, 184, 177, 310, 136, 23, 236]\n"
          ]
        }
      ]
    },
    {
      "cell_type": "markdown",
      "source": [
        "**Para el armado del bullet \"3: Una función filtro que caracteriza el evento E\", definir la función hay_coincidencia(cumples) que devuelva TRUE (o un 1) si hay una coincidencia en una lista cumples que sea pasada como argumento. Esta es la función que quizás sea más difícil de implementar. Hay muchas formas de hacerlo. Como pista, la función set() que ya usamos es una estructura de datos ideal para contener objetos sin repeticiones.**"
      ],
      "metadata": {
        "id": "V7yuzfcd_LDN"
      }
    },
    {
      "cell_type": "code",
      "source": [
        "def hay_coincidencia(cumples):\n",
        "    \"\"\"Verifica si hay al menos dos fechas iguales en una lista de cumpleaños.\"\"\"\n",
        "    conjunto_cumples = set(cumples)\n",
        "    if len(conjunto_cumples) < len(cumples):\n",
        "        return True  # Hay al menos dos fechas iguales\n",
        "    else:\n",
        "        return False  # No hay fechas iguales\n",
        "\n",
        "# Ejemplo de uso:\n",
        "# fechas_cumpleanos = [3, 5, 12, 18, 5]  # Ejemplo con dos fechas iguales\n",
        "# print(hay_coincidencia(fechas_cumpleanos))\n"
      ],
      "metadata": {
        "id": "QPCpqVw7_bvU"
      },
      "execution_count": null,
      "outputs": []
    },
    {
      "cell_type": "markdown",
      "source": [
        "**4. Para el armado del bullet \"4: Aproximamos P(E) por la proporción de elementos de E en la muestra\" contar la proporción de hay_coincidencia() en las N repeticiones de la muestra y devolver ese valor.**"
      ],
      "metadata": {
        "id": "73b6mQ8hAmk8"
      }
    },
    {
      "cell_type": "code",
      "source": [
        "def aproximacion_probabilidad_E(N, k):\n",
        "    \"\"\"Aproxima la probabilidad de que al menos dos personas compartan la misma fecha de cumpleaños.\"\"\"\n",
        "    muestras = generar_muestras(N, k)  # Generar N muestras de cumpleaños para grupos de k personas\n",
        "    coincidencias = sum(hay_coincidencia(muestra) for muestra in muestras)  # Contar coincidencias en las muestras\n",
        "    probabilidad_E = coincidencias / N  # Calcular la proporción de veces que ocurre el evento E\n",
        "    return probabilidad_E\n",
        "\n",
        "# Ejemplo de uso:\n",
        "# N = 1000  # Número de repeticiones\n",
        "# k = 30  # Número de personas en el grupo\n",
        "# probabilidad = aproximacion_probabilidad_E(N, k)\n",
        "# print(f\"La probabilidad de que al menos dos personas compartan la misma fecha de cumpleaños en un grupo de {k} personas es aproximadamente: {probabilidad:.4f}\")\n"
      ],
      "metadata": {
        "id": "ypG5OEm0Aq_9"
      },
      "execution_count": null,
      "outputs": []
    },
    {
      "cell_type": "code",
      "source": [
        " probabilida = aproximacion_probabilidad_E(1000, 50)\n",
        " print(f\"La probabilidad de que al menos dos personas compartan la misma fecha de cumpleaños en un grupo de {k} personas es aproximadamente: {probabilida:.4f}\");"
      ],
      "metadata": {
        "colab": {
          "base_uri": "https://localhost:8080/"
        },
        "id": "bREfS8LsBgR3",
        "outputId": "256cbe7a-0fc7-445a-d6a3-38cce12099af"
      },
      "execution_count": null,
      "outputs": [
        {
          "output_type": "stream",
          "name": "stdout",
          "text": [
            "La probabilidad de que al menos dos personas compartan la misma fecha de cumpleaños en un grupo de 50 personas es aproximadamente: 0.9680\n"
          ]
        }
      ]
    },
    {
      "cell_type": "markdown",
      "source": [
        "*Como quiere estimarse la probabilidad en las simulaciones para grupos de k personas, donde k varía desde 0 hasta 50 personas, puede crearse una función proporcion_coincidencia(k,N) que devuelva directamente una aproximación a la probabilidad de coincidencia en función del número de personas k; sin tener que simular las N repeticiones en cada caso por separado. En esta función proporcion_coincidencia(k,N) pueden usarse, dentro, las funciones cumples() y hay_coincidencia().*"
      ],
      "metadata": {
        "id": "oiipZAvADhce"
      }
    },
    {
      "cell_type": "code",
      "source": [
        "def proporcion_coincidencia(k, N):\n",
        "    \"\"\"Aproxima la probabilidad de coincidencia en función del número de personas k.\"\"\"\n",
        "    probabilidad_total = 0\n",
        "    for _ in range(N):\n",
        "        probabilidad_total += aproximacion_probabilidad_E(1, k)  # Utilizamos 1 repetición para estimar la probabilidad\n",
        "    probabilidad_promedio = probabilidad_total / N\n",
        "    return probabilidad_promedio\n",
        "\n",
        "# Ejemplo de uso:\n",
        "# k = 10  # Por ejemplo, para un grupo de 10 personas\n",
        "# N = 1000  # Número de repeticiones\n",
        "# probabilidad = proporcion_coincidencia(k, N)\n",
        "# print(f\"La probabilidad de que al menos dos personas compartan la misma fecha de cumpleaños en un grupo de {k} personas es aproximadamente: {probabilidad:.4f}\")\n"
      ],
      "metadata": {
        "id": "4Pb3zK-FDnaj"
      },
      "execution_count": null,
      "outputs": []
    },
    {
      "cell_type": "code",
      "source": [
        "probabilidad = proporcion_coincidencia(50, 1000)\n",
        "print(f\"La probabilidad de que al menos dos personas compartan la misma fecha de cumpleaños en un grupo de {k} personas es aproximadamente: {probabilidad:.4f}\")"
      ],
      "metadata": {
        "colab": {
          "base_uri": "https://localhost:8080/"
        },
        "id": "nfUTy5VrEC7L",
        "outputId": "d407bcf6-7479-414c-cc9b-0c0643b336e6"
      },
      "execution_count": null,
      "outputs": [
        {
          "output_type": "stream",
          "name": "stdout",
          "text": [
            "La probabilidad de que al menos dos personas compartan la misma fecha de cumpleaños en un grupo de 50 personas es aproximadamente: 0.9660\n"
          ]
        }
      ]
    }
  ],
  "metadata": {
    "kernelspec": {
      "display_name": "Python 3 (ipykernel)",
      "language": "python",
      "name": "python3"
    },
    "language_info": {
      "codemirror_mode": {
        "name": "ipython",
        "version": 3
      },
      "file_extension": ".py",
      "mimetype": "text/x-python",
      "name": "python",
      "nbconvert_exporter": "python",
      "pygments_lexer": "ipython3",
      "version": "3.8.10"
    },
    "colab": {
      "provenance": []
    }
  },
  "nbformat": 4,
  "nbformat_minor": 0
}